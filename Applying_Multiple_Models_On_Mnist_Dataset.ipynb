{
  "cells": [
    {
      "cell_type": "markdown",
      "metadata": {
        "id": "view-in-github",
        "colab_type": "text"
      },
      "source": [
        "<a href=\"https://colab.research.google.com/github/MaryamSayed01/Bank-System/blob/main/Applying_Multiple_Models_On_Mnist_Dataset.ipynb\" target=\"_parent\"><img src=\"https://colab.research.google.com/assets/colab-badge.svg\" alt=\"Open In Colab\"/></a>"
      ]
    },
    {
      "cell_type": "markdown",
      "metadata": {
        "id": "WK4wxUe56d5Q"
      },
      "source": [
        "## - Mnist is a Dataset Consist of 28*28 pixle image with 70,000 record with 10 classes (0 to 9)\n",
        "# Target:\n",
        "- Apply HOG In the dataset\n",
        "- Apply Different Models and Compare them to each Others and decided What's the Best fit Model\n",
        "___\n",
        "# Models applied to the Dataset:\n",
        "- K- Nearest Neighbours(KNN)\n",
        "- Convolutional Neural Network(CNN)\n",
        "- Random Forest(RF)"
      ]
    },
    {
      "cell_type": "markdown",
      "metadata": {
        "id": "CA3b_GdW-uMt"
      },
      "source": [
        "## <center> **Phase 1:Load MNIST dataset**\n"
      ]
    },
    {
      "cell_type": "code",
      "execution_count": null,
      "metadata": {
        "id": "884bhkTLoOxt"
      },
      "outputs": [],
      "source": [
        "import numpy as np\n",
        "import matplotlib.pyplot as plt\n",
        "import keras\n",
        "from keras.datasets import mnist\n",
        "import keras\n",
        "import keras.utils\n",
        "from keras import utils as np_utils"
      ]
    },
    {
      "cell_type": "code",
      "execution_count": null,
      "metadata": {
        "id": "NAd-ZlCj-yne"
      },
      "outputs": [],
      "source": [
        "mnist.load_data?\n"
      ]
    },
    {
      "cell_type": "code",
      "execution_count": null,
      "metadata": {
        "colab": {
          "base_uri": "https://localhost:8080/",
          "height": 1000
        },
        "id": "j611nAcQ-3Jw",
        "outputId": "71862272-b129-4e98-ffcb-27dd4dbae3c7"
      },
      "outputs": [
        {
          "name": "stdout",
          "output_type": "stream",
          "text": [
            "Downloading data from https://storage.googleapis.com/tensorflow/tf-keras-datasets/mnist.npz\n",
            "11493376/11490434 [==============================] - 0s 0us/step\n",
            "11501568/11490434 [==============================] - 0s 0us/step\n"
          ]
        },
        {
          "data": {
            "image/png": "[encoded data removed]",
            "text/plain": [
              "<Figure size 432x288 with 1 Axes>"
            ]
          },
          "metadata": {},
          "output_type": "display_data"
        },
        {
          "data": {
            "image/png": "[encoded data removed]",
            "text/plain": [
              "<Figure size 432x288 with 1 Axes>"
            ]
          },
          "metadata": {},
          "output_type": "display_data"
        },
        {
          "data": {
            "image/png": "[encoded data removed]",
            "text/plain": [
              "<Figure size 432x288 with 1 Axes>"
            ]
          },
          "metadata": {},
          "output_type": "display_data"
        },
        {
          "data": {
            "image/png": "[encoded data removed]",
            "text/plain": [
              "<Figure size 432x288 with 1 Axes>"
            ]
          },
          "metadata": {},
          "output_type": "display_data"
        },
        {
          "data": {
            "image/png": "[encoded data removed]",
            "text/plain": [
              "<Figure size 432x288 with 1 Axes>"
            ]
          },
          "metadata": {},
          "output_type": "display_data"
        },
        {
          "data": {
            "image/png": "[encoded data removed]",
            "text/plain": [
              "<Figure size 432x288 with 1 Axes>"
            ]
          },
          "metadata": {},
          "output_type": "display_data"
        },
        {
          "data": {
            "image/png": "[encoded data removed]",
            "text/plain": [
              "<Figure size 432x288 with 1 Axes>"
            ]
          },
          "metadata": {},
          "output_type": "display_data"
        },
        {
          "data": {
            "image/png": "[encoded data removed]",
            "text/plain": [
              "<Figure size 432x288 with 1 Axes>"
            ]
          },
          "metadata": {},
          "output_type": "display_data"
        },
        {
          "data": {
            "image/png": "[encoded data removed]",
            "text/plain": [
              "<Figure size 432x288 with 1 Axes>"
            ]
          },
          "metadata": {},
          "output_type": "display_data"
        },
        {
          "data": {
            "image/png": "[encoded data removed]",
            "text/plain": [
              "<Figure size 432x288 with 1 Axes>"
            ]
          },
          "metadata": {},
          "output_type": "display_data"
        }
      ],
      "source": [
        "#Data is loaded as Matrix to Display the images we use imshow function\n",
        "(X_train, y_train), (X_test, y_test)=mnist.load_data()\n",
        "#ٍSee how Data imgs look like(We'll comment it in the future)\n",
        "def plot_images(index):\n",
        "  plt.imshow(X_train[index],cmap='binary')\n",
        "  plt.axis('off')\n",
        "  plt.show()\n",
        "for i in range(10):\n",
        "  plot_images(i)"
      ]
    },
    {
      "cell_type": "markdown",
      "metadata": {
        "id": "LBE_N8F4_Av-"
      },
      "source": [
        "## <center> **Phase 2: Apply HOG features to the images**"
      ]
    },
    {
      "cell_type": "markdown",
      "metadata": {
        "id": "PJkrmHT4_LBB"
      },
      "source": [
        "We apply Histogram of Oriented Gradients(HOG) aiming to extract non important info from the data, such color and keep the shape that make you recognize the image anyway\n"
      ]
    },
    {
      "cell_type": "markdown",
      "metadata": {
        "id": "Yy9S4-tdSm1W"
      },
      "source": [
        "## Steps: \n",
        "### In HOG we have 2 important **Value Gradients** and **Orientation** \n",
        "### 1- Preprocess\n",
        "### 2- Calculate Gradients (x,y)\n",
        "    [to find the small change in x and y axis]\n",
        "    we'll get 2 matrices one for x and the other for y Changes\n",
        "### 3- Calculate the Magnitude and Orientation \n",
        "    for each pixle using gradients from previous step \n",
        "    (Total Gradient Magnitude =  √[(Gx)2+(Gy)2]),Orientation (tan(Φ) = Gy / Gx)\n",
        "#### 4-Calculate Histogram of Gradients \n",
        "    In this step we try to creat histogram using Gradients  oriantations\n",
        "    If we divide the image into 8×8 cells and generate the histograms, we will get a 9 x 1 matrix for each cell\n",
        "### 5-Normalize gradients\n",
        "    We do this step to reduce lightinig that might be exsist in parts of any pic\n",
        "\n"
      ]
    },
    {
      "cell_type": "markdown",
      "metadata": {
        "id": "7QxnaxcThwS9"
      },
      "source": [
        "![bandicam 2022-01-08 23-11-22-818.jpg](data:image/jpeg;base64,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)"
      ]
    },
    {
      "cell_type": "code",
      "execution_count": null,
      "metadata": {
        "id": "-p_PGYUT_BI9"
      },
      "outputs": [],
      "source": [
        "from skimage.io import imread, imshow\n",
        "from skimage.transform import resize\n",
        "from skimage.feature import hog\n",
        "from skimage import exposure\n",
        "import matplotlib.pyplot as plt"
      ]
    },
    {
      "cell_type": "code",
      "execution_count": null,
      "metadata": {
        "id": "cX2jeWAP5tjS"
      },
      "outputs": [],
      "source": [
        "#1-PreProcess\n",
        "X_train = X_train.astype('float32')\n",
        "X_test = X_test.astype('float32')\n",
        "X_train/=255\n",
        "X_test/=255"
      ]
    },
    {
      "cell_type": "code",
      "execution_count": null,
      "metadata": {
        "id": "15tYEfho51z0"
      },
      "outputs": [],
      "source": [
        "for i in range(60000):\n",
        "    resized_img = resize(X_train[i], (28,28))\n",
        "    fd, hog_image = hog(resized_img, orientations=9, pixels_per_cell=(4, 4), cells_per_block=(2, 2), visualize=True)#Get Gradient And oriantation\n",
        "    hog_image_rescaled = exposure.rescale_intensity(hog_image, in_range=(0, 1)) \n",
        "    X_train[i]=hog_image_rescaled"
      ]
    },
    {
      "cell_type": "code",
      "execution_count": null,
      "metadata": {
        "colab": {
          "base_uri": "https://localhost:8080/",
          "height": 1000
        },
        "id": "MKw0yw9454_2",
        "outputId": "7fadb8f8-1425-46cd-d9b0-493c26bf2601"
      },
      "outputs": [
        {
          "name": "stdout",
          "output_type": "stream",
          "text": [
            "AxesImage(54,36;334.8x217.44) "
          ]
        },
        {
          "data": {
            "image/png": "[encoded data removed]",
            "text/plain": [
              "<Figure size 432x288 with 1 Axes>"
            ]
          },
          "metadata": {},
          "output_type": "display_data"
        },
        {
          "name": "stdout",
          "output_type": "stream",
          "text": [
            "AxesImage(54,36;334.8x217.44) "
          ]
        },
        {
          "data": {
            "image/png": "[encoded data removed]",
            "text/plain": [
              "<Figure size 432x288 with 1 Axes>"
            ]
          },
          "metadata": {},
          "output_type": "display_data"
        },
        {
          "name": "stdout",
          "output_type": "stream",
          "text": [
            "AxesImage(54,36;334.8x217.44) "
          ]
        },
        {
          "data": {
            "image/png": "[encoded data removed]",
            "text/plain": [
              "<Figure size 432x288 with 1 Axes>"
            ]
          },
          "metadata": {},
          "output_type": "display_data"
        },
        {
          "name": "stdout",
          "output_type": "stream",
          "text": [
            "AxesImage(54,36;334.8x217.44) "
          ]
        },
        {
          "data": {
            "image/png": "[encoded data removed]",
            "text/plain": [
              "<Figure size 432x288 with 1 Axes>"
            ]
          },
          "metadata": {},
          "output_type": "display_data"
        },
        {
          "name": "stdout",
          "output_type": "stream",
          "text": [
            "AxesImage(54,36;334.8x217.44) "
          ]
        },
        {
          "data": {
            "image/png": "[encoded data removed]",
            "text/plain": [
              "<Figure size 432x288 with 1 Axes>"
            ]
          },
          "metadata": {},
          "output_type": "display_data"
        },
        {
          "name": "stdout",
          "output_type": "stream",
          "text": [
            "AxesImage(54,36;334.8x217.44) "
          ]
        },
        {
          "data": {
            "image/png": "[encoded data removed]",
            "text/plain": [
              "<Figure size 432x288 with 1 Axes>"
            ]
          },
          "metadata": {},
          "output_type": "display_data"
        },
        {
          "name": "stdout",
          "output_type": "stream",
          "text": [
            "AxesImage(54,36;334.8x217.44) "
          ]
        },
        {
          "data": {
            "image/png": "[encoded data removed]",
            "text/plain": [
              "<Figure size 432x288 with 1 Axes>"
            ]
          },
          "metadata": {},
          "output_type": "display_data"
        },
        {
          "name": "stdout",
          "output_type": "stream",
          "text": [
            "AxesImage(54,36;334.8x217.44) "
          ]
        },
        {
          "data": {
            "image/png": "[encoded data removed]",
            "text/plain": [
              "<Figure size 432x288 with 1 Axes>"
            ]
          },
          "metadata": {},
          "output_type": "display_data"
        },
        {
          "name": "stdout",
          "output_type": "stream",
          "text": [
            "AxesImage(54,36;334.8x217.44) "
          ]
        },
        {
          "data": {
            "image/png": "[encoded data removed]",
            "text/plain": [
              "<Figure size 432x288 with 1 Axes>"
            ]
          },
          "metadata": {},
          "output_type": "display_data"
        },
        {
          "name": "stdout",
          "output_type": "stream",
          "text": [
            "AxesImage(54,36;334.8x217.44) "
          ]
        },
        {
          "data": {
            "image/png": "[encoded data removed]",
            "text/plain": [
              "<Figure size 432x288 with 1 Axes>"
            ]
          },
          "metadata": {},
          "output_type": "display_data"
        },
        {
          "name": "stdout",
          "output_type": "stream",
          "text": [
            "AxesImage(54,36;334.8x217.44) "
          ]
        },
        {
          "data": {
            "image/png": "[encoded data removed]",
            "text/plain": [
              "<Figure size 432x288 with 1 Axes>"
            ]
          },
          "metadata": {},
          "output_type": "display_data"
        },
        {
          "name": "stdout",
          "output_type": "stream",
          "text": [
            "AxesImage(54,36;334.8x217.44) "
          ]
        },
        {
          "data": {
            "image/png": "[encoded data removed]",
            "text/plain": [
              "<Figure size 432x288 with 1 Axes>"
            ]
          },
          "metadata": {},
          "output_type": "display_data"
        },
        {
          "name": "stdout",
          "output_type": "stream",
          "text": [
            "AxesImage(54,36;334.8x217.44) "
          ]
        },
        {
          "data": {
            "image/png": "[encoded data removed]",
            "text/plain": [
              "<Figure size 432x288 with 1 Axes>"
            ]
          },
          "metadata": {},
          "output_type": "display_data"
        },
        {
          "name": "stdout",
          "output_type": "stream",
          "text": [
            "AxesImage(54,36;334.8x217.44) "
          ]
        },
        {
          "data": {
            "image/png": "[encoded data removed]",
            "text/plain": [
              "<Figure size 432x288 with 1 Axes>"
            ]
          },
          "metadata": {},
          "output_type": "display_data"
        },
        {
          "name": "stdout",
          "output_type": "stream",
          "text": [
            "AxesImage(54,36;334.8x217.44) "
          ]
        },
        {
          "data": {
            "image/png": "[encoded data removed]",
            "text/plain": [
              "<Figure size 432x288 with 1 Axes>"
            ]
          },
          "metadata": {},
          "output_type": "display_data"
        }
      ],
      "source": [
        "from matplotlib.pyplot import imshow, show    \n",
        "for img in range(15):\n",
        "  plt.axis('off')\n",
        "  imshow(X_train[img],cmap='binary')\n",
        "  show()"
      ]
    },
    {
      "cell_type": "code",
      "execution_count": null,
      "metadata": {
        "id": "SEFRGc0IGrga"
      },
      "outputs": [],
      "source": [
        "for i in range(10000):\n",
        "    resized_img = resize(X_test[i], (28,28))\n",
        "    fd, hog_image = hog(resized_img, orientations=9, pixels_per_cell=(4, 4), cells_per_block=(2, 2), visualize=True)\n",
        "    hog_image_rescaled = exposure.rescale_intensity(hog_image, in_range=(0, 1)) \n",
        "    X_test[i]=hog_image_rescaled"
      ]
    },
    {
      "cell_type": "code",
      "execution_count": null,
      "metadata": {
        "colab": {
          "base_uri": "https://localhost:8080/",
          "height": 1000
        },
        "id": "izVg1gnNYOow",
        "outputId": "da568ac9-a50e-44fd-d1bf-99e145c0da37"
      },
      "outputs": [
        {
          "data": {
            "image/png": "[encoded data removed]",
            "text/plain": [
              "<Figure size 432x288 with 1 Axes>"
            ]
          },
          "metadata": {},
          "output_type": "display_data"
        },
        {
          "data": {
            "image/png": "[encoded data removed]",
            "text/plain": [
              "<Figure size 432x288 with 1 Axes>"
            ]
          },
          "metadata": {},
          "output_type": "display_data"
        },
        {
          "data": {
            "image/png": "[encoded data removed]",
            "text/plain": [
              "<Figure size 432x288 with 1 Axes>"
            ]
          },
          "metadata": {},
          "output_type": "display_data"
        },
        {
          "data": {
            "image/png": "[encoded data removed]",
            "text/plain": [
              "<Figure size 432x288 with 1 Axes>"
            ]
          },
          "metadata": {},
          "output_type": "display_data"
        },
        {
          "data": {
            "image/png": "[encoded data removed]",
            "text/plain": [
              "<Figure size 432x288 with 1 Axes>"
            ]
          },
          "metadata": {},
          "output_type": "display_data"
        },
        {
          "data": {
            "image/png": "[encoded data removed]",
            "text/plain": [
              "<Figure size 432x288 with 1 Axes>"
            ]
          },
          "metadata": {},
          "output_type": "display_data"
        },
        {
          "data": {
            "image/png": "[encoded data removed]",
            "text/plain": [
              "<Figure size 432x288 with 1 Axes>"
            ]
          },
          "metadata": {},
          "output_type": "display_data"
        },
        {
          "data": {
            "image/png": "[encoded data removed]",
            "text/plain": [
              "<Figure size 432x288 with 1 Axes>"
            ]
          },
          "metadata": {},
          "output_type": "display_data"
        },
        {
          "data": {
            "image/png": "[encoded data removed]",
            "text/plain": [
              "<Figure size 432x288 with 1 Axes>"
            ]
          },
          "metadata": {},
          "output_type": "display_data"
        },
        {
          "data": {
            "image/png": "[encoded data removed]",
            "text/plain": [
              "<Figure size 432x288 with 1 Axes>"
            ]
          },
          "metadata": {},
          "output_type": "display_data"
        },
        {
          "data": {
            "image/png": "[encoded data removed]",
            "text/plain": [
              "<Figure size 432x288 with 1 Axes>"
            ]
          },
          "metadata": {},
          "output_type": "display_data"
        },
        {
          "data": {
            "image/png": "[encoded data removed]",
            "text/plain": [
              "<Figure size 432x288 with 1 Axes>"
            ]
          },
          "metadata": {},
          "output_type": "display_data"
        },
        {
          "data": {
            "image/png": "[encoded data removed]",
            "text/plain": [
              "<Figure size 432x288 with 1 Axes>"
            ]
          },
          "metadata": {},
          "output_type": "display_data"
        },
        {
          "data": {
            "image/png": "[encoded data removed]",
            "text/plain": [
              "<Figure size 432x288 with 1 Axes>"
            ]
          },
          "metadata": {},
          "output_type": "display_data"
        },
        {
          "data": {
            "image/png": "[encoded data removed]",
            "text/plain": [
              "<Figure size 432x288 with 1 Axes>"
            ]
          },
          "metadata": {},
          "output_type": "display_data"
        }
      ],
      "source": [
        "for img in range(15):\n",
        "  plt.axis('off')\n",
        "  imshow(X_test[img],cmap='binary')\n",
        "  show()"
      ]
    },
    {
      "cell_type": "markdown",
      "metadata": {
        "id": "B0GYl3UUZhKE"
      },
      "source": [
        "# <center>Phase 3: Applying KNN Algorithm On Mnist"
      ]
    },
    {
      "cell_type": "markdown",
      "metadata": {
        "id": "9-9msQJXbcA3"
      },
      "source": [
        "Every Model gets to know and learn from the data during training, KNN's a lazy algorithm That does not learn from the training set immediately instead it stores the dataset and at the time of classification, it performs an action on the dataset.\n",
        "# Steps\n",
        "\n",
        "\n",
        "1.  Select The Number K of neighbors \n",
        "2.  Calculate Euclidean distance of K number of neighbors\n",
        "3. Take the K nearest neighbors as per the calculated Euclidean distance.\n",
        "4. Among these k neighbors, count the number of the data points in each category.\n",
        "5. If we got the most K neighbors from category A so We assign this point to A\n",
        "6. Start Testing Your Model\n",
        "\n"
      ]
    },
    {
      "cell_type": "code",
      "execution_count": null,
      "metadata": {
        "id": "WfU5R0I5Zwqj"
      },
      "outputs": [],
      "source": [
        "from sklearn.neighbors import KNeighborsClassifier\n",
        "from sklearn.metrics import classification_report"
      ]
    },
    {
      "cell_type": "code",
      "execution_count": null,
      "metadata": {
        "id": "cxoEDjBdaFYb"
      },
      "outputs": [],
      "source": [
        "#Reshaping The Data to Be 2d array as KNN only accept <=2D array \n",
        "x_train = X_train.reshape(X_train.shape[0], (X_train.shape[1]*X_train.shape[2]))\n",
        "x_test = X_test.reshape(X_test.shape[0], (X_test.shape[1]*X_test.shape[2]))"
      ]
    },
    {
      "cell_type": "code",
      "execution_count": null,
      "metadata": {
        "colab": {
          "base_uri": "https://localhost:8080/"
        },
        "id": "F-8j51Aolm5X",
        "outputId": "f28200c0-cf8c-4537-ac1c-c7f9f95bc814"
      },
      "outputs": [
        {
          "name": "stdout",
          "output_type": "stream",
          "text": [
            "k=1, accuracy=96.67%\n",
            "k=3, accuracy=96.85%\n",
            "k=5, accuracy=96.87%\n",
            "k=7, accuracy=96.86%\n",
            "k=9, accuracy=96.88%\n",
            "k=11, accuracy=96.83%\n",
            "k=13, accuracy=96.84%\n",
            "k=15, accuracy=96.71%\n",
            "k=17, accuracy=96.76%\n",
            "k=19, accuracy=96.62%\n",
            "k=21, accuracy=96.59%\n",
            "k=23, accuracy=96.54%\n",
            "k=25, accuracy=96.55%\n",
            "k=27, accuracy=96.50%\n",
            "k=29, accuracy=96.47%\n"
          ]
        }
      ],
      "source": [
        "k_values = np.arange(1,30,2)\n",
        "for k in k_values:\n",
        "    \n",
        "    KNN = KNeighborsClassifier(n_neighbors=k)\n",
        "    KNN.fit(x_train,y_train)\n",
        "    score = KNN.score(x_test, y_test)\n",
        "\n",
        "    print(\"k=%d, accuracy=%.2f%%\" % (k, score * 100))"
      ]
    },
    {
      "cell_type": "code",
      "execution_count": null,
      "metadata": {
        "colab": {
          "base_uri": "https://localhost:8080/"
        },
        "id": "3ufI3b3kmQHB",
        "outputId": "cdb22d0f-ad94-4af9-e1cd-cf41c156e3f6"
      },
      "outputs": [
        {
          "name": "stdout",
          "output_type": "stream",
          "text": [
            "              precision    recall  f1-score   support\n",
            "\n",
            "           0       0.97      0.99      0.98       980\n",
            "           1       0.97      1.00      0.98      1135\n",
            "           2       0.98      0.97      0.97      1032\n",
            "           3       0.95      0.96      0.96      1010\n",
            "           4       0.98      0.96      0.97       982\n",
            "           5       0.98      0.95      0.96       892\n",
            "           6       0.98      0.99      0.98       958\n",
            "           7       0.96      0.95      0.95      1028\n",
            "           8       0.97      0.95      0.96       974\n",
            "           9       0.94      0.96      0.95      1009\n",
            "\n",
            "    accuracy                           0.97     10000\n",
            "   macro avg       0.97      0.97      0.97     10000\n",
            "weighted avg       0.97      0.97      0.97     10000\n",
            "\n"
          ]
        }
      ],
      "source": [
        "KNN= KNeighborsClassifier(n_neighbors=1)\n",
        "KNN.fit(x_train,y_train)\n",
        "predictions = KNN.predict(x_test)\n",
        "print(classification_report(y_test,predictions))"
      ]
    },
    {
      "cell_type": "markdown",
      "metadata": {
        "id": "k6m4QrtPmkFI"
      },
      "source": [
        "# <center>Applying CNN (Convolution Neural Network) Model\n"
      ]
    },
    {
      "cell_type": "code",
      "execution_count": null,
      "metadata": {
        "id": "6Z909ov5msgk"
      },
      "outputs": [],
      "source": [
        "import tensorflow as tf\n",
        "from keras import utils as np_utils \n",
        "from tensorflow.keras.models import Sequential\n",
        "from tensorflow.keras.layers import Dense, Conv2D, Dropout, Flatten, MaxPooling2D"
      ]
    },
    {
      "cell_type": "code",
      "execution_count": null,
      "metadata": {
        "id": "xc5OIekPuiiE"
      },
      "outputs": [],
      "source": [
        "cnn = Sequential()\n",
        "cnn.add(Conv2D(28, kernel_size=(3,3), input_shape=(28,28,1)))\n",
        "cnn.add(MaxPooling2D(pool_size=(2, 2)))\n",
        "cnn.add(Flatten()) \n",
        "cnn.add(Dense(128, activation=tf.nn.relu))\n",
        "cnn.add(Dropout(0.2))\n",
        "cnn.add(Dense(10,activation=tf.nn.softmax))"
      ]
    },
    {
      "cell_type": "code",
      "execution_count": null,
      "metadata": {
        "colab": {
          "background_save": true,
          "base_uri": "https://localhost:8080/"
        },
        "id": "UTzkcgbyxURp",
        "outputId": "6e839ab9-90ed-41b1-ec18-1b6c1adeef7e"
      },
      "outputs": [
        {
          "name": "stdout",
          "output_type": "stream",
          "text": [
            "Epoch 1/10\n",
            "1875/1875 [==============================] - 36s 19ms/step - loss: 0.2114 - accuracy: 0.9382\n",
            "Epoch 2/10\n",
            "1875/1875 [==============================] - 35s 18ms/step - loss: 0.0990 - accuracy: 0.9687\n",
            "Epoch 3/10\n",
            "1875/1875 [==============================] - 34s 18ms/step - loss: 0.0789 - accuracy: 0.9755\n",
            "Epoch 4/10\n",
            "1875/1875 [==============================] - 34s 18ms/step - loss: 0.0677 - accuracy: 0.9786\n",
            "Epoch 5/10\n",
            "1875/1875 [==============================] - 35s 18ms/step - loss: 0.0598 - accuracy: 0.9812\n",
            "Epoch 6/10\n",
            "1875/1875 [==============================] - 34s 18ms/step - loss: 0.0519 - accuracy: 0.9832\n",
            "Epoch 7/10\n",
            "1875/1875 [==============================] - 34s 18ms/step - loss: 0.0469 - accuracy: 0.9847\n",
            "Epoch 8/10\n",
            "1875/1875 [==============================] - 34s 18ms/step - loss: 0.0413 - accuracy: 0.9859\n",
            "Epoch 9/10\n",
            "1875/1875 [==============================] - 35s 19ms/step - loss: 0.0392 - accuracy: 0.9869\n",
            "Epoch 10/10\n",
            "1875/1875 [==============================] - 34s 18ms/step - loss: 0.0356 - accuracy: 0.9881\n"
          ]
        },
        {
          "data": {
            "text/plain": [
              "<keras.callbacks.History at 0x7f39a9e771d0>"
            ]
          },
          "execution_count": null,
          "metadata": {},
          "output_type": "execute_result"
        }
      ],
      "source": [
        "cnn.compile(optimizer='adam',loss='sparse_categorical_crossentropy',metrics=['accuracy'])\n",
        "cnn.fit(x=X_train,y=y_train, epochs=10)"
      ]
    },
    {
      "cell_type": "code",
      "source": [
        "cnn.evaluate(X_test, y_test)"
      ],
      "metadata": {
        "colab": {
          "base_uri": "https://localhost:8080/"
        },
        "id": "wCSheNfX4dWm",
        "outputId": "39af8ae3-e392-41f9-8a0b-bcac17e92043"
      },
      "execution_count": 36,
      "outputs": [
        {
          "output_type": "stream",
          "name": "stdout",
          "text": [
            "313/313 [==============================] - 2s 8ms/step - loss: 0.0715 - accuracy: 0.9841\n"
          ]
        },
        {
          "output_type": "execute_result",
          "data": {
            "text/plain": [
              "[0.07147686183452606, 0.9840999841690063]"
            ]
          },
          "metadata": {},
          "execution_count": 36
        }
      ]
    },
    {
      "cell_type": "markdown",
      "source": [
        "# <center>Applying Random Forest Classification Model"
      ],
      "metadata": {
        "id": "0OzWA4l75X1j"
      }
    },
    {
      "cell_type": "code",
      "source": [
        "import seaborn as sns\n",
        "from sklearn.ensemble import RandomForestClassifier \n",
        "from sklearn.metrics import confusion_matrix\n",
        "from sklearn.model_selection import RandomizedSearchCV, GridSearchCV \n",
        "from sklearn.model_selection import cross_val_score"
      ],
      "metadata": {
        "id": "PA0UZ0l16vJy"
      },
      "execution_count": 37,
      "outputs": []
    },
    {
      "cell_type": "code",
      "source": [
        "rf=RandomForestClassifier(n_estimators=100)\n",
        "rf.fit(x_train,y_train)"
      ],
      "metadata": {
        "colab": {
          "base_uri": "https://localhost:8080/"
        },
        "id": "BqFxr6pa7GQ8",
        "outputId": "b58b2ee0-956a-4d7c-f1a2-79e0eab822c0"
      },
      "execution_count": 39,
      "outputs": [
        {
          "output_type": "execute_result",
          "data": {
            "text/plain": [
              "RandomForestClassifier()"
            ]
          },
          "metadata": {},
          "execution_count": 39
        }
      ]
    },
    {
      "cell_type": "code",
      "source": [
        "pred=rf.predict(x_test)\n",
        "print (\"Classification Report\")\n",
        "print(classification_report(y_test, pred))"
      ],
      "metadata": {
        "colab": {
          "base_uri": "https://localhost:8080/"
        },
        "id": "bxnwKztV9_xE",
        "outputId": "83cf7c6c-c0bc-4088-a868-c79507e81243"
      },
      "execution_count": 41,
      "outputs": [
        {
          "output_type": "stream",
          "name": "stdout",
          "text": [
            "Classification Report\n",
            "              precision    recall  f1-score   support\n",
            "\n",
            "           0       0.97      0.99      0.98       980\n",
            "           1       0.99      0.99      0.99      1135\n",
            "           2       0.96      0.98      0.97      1032\n",
            "           3       0.96      0.97      0.97      1010\n",
            "           4       0.97      0.97      0.97       982\n",
            "           5       0.98      0.97      0.97       892\n",
            "           6       0.98      0.97      0.98       958\n",
            "           7       0.98      0.96      0.97      1028\n",
            "           8       0.98      0.96      0.97       974\n",
            "           9       0.96      0.95      0.95      1009\n",
            "\n",
            "    accuracy                           0.97     10000\n",
            "   macro avg       0.97      0.97      0.97     10000\n",
            "weighted avg       0.97      0.97      0.97     10000\n",
            "\n"
          ]
        }
      ]
    },
    {
      "cell_type": "markdown",
      "metadata": {
        "id": "SG9gKzucZcA4"
      },
      "source": [
        "#Resources\n",
        "https://machinelearningmastery.com/how-to-develop-a-convolutional-neural-network-from-scratch-for-mnist-handwritten-digit-classification/\n",
        "https://scikit-image.org/docs/dev/api/skimage.feature.html#skimage.feature.hog\n",
        "https://h1ros.github.io/posts/loading-scikit-learns-mnist-dataset/\n",
        "https://towardsdatascience.com/image-classification-in-10-minutes-with-mnist-dataset-54c35b77a38d\n",
        "https://www.analyticsvidhya.com/blog/2019/09/feature-engineering-images-introduction-hog-feature-descriptor/\n",
        "https://www.programcreek.com/python/example/93846/skimage.exposure.rescale_intensity"
      ]
    },
    {
      "cell_type": "markdown",
      "metadata": {
        "id": "VcG6fNsVaAZS"
      },
      "source": [
        ""
      ]
    }
  ],
  "metadata": {
    "colab": {
      "name": "Applying Multiple Models On Mnist Dataset.ipynb",
      "provenance": [],
      "authorship_tag": "ABX9TyPieYnkeo54mBpinlYqpTYo",
      "include_colab_link": true
    },
    "kernelspec": {
      "display_name": "Python 3",
      "name": "python3"
    },
    "language_info": {
      "name": "python"
    }
  },
  "nbformat": 4,
  "nbformat_minor": 0
}