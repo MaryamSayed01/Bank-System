{
  "cells": [
    {
      "cell_type": "markdown",
      "metadata": {
        "id": "view-in-github",
        "colab_type": "text"
      },
      "source": [
        "<a href=\"https://colab.research.google.com/github/MaryamSayed01/Bank-System/blob/main/Mnist.ipynb\" target=\"_parent\"><img src=\"https://colab.research.google.com/assets/colab-badge.svg\" alt=\"Open In Colab\"/></a>"
      ]
    },
    {
      "cell_type": "markdown",
      "metadata": {
        "id": "Xd0RBqmyxZTK"
      },
      "source": [
        "## **Phase 1:Load MNIST dataset**\n"
      ]
    },
    {
      "cell_type": "code",
      "execution_count": 6,
      "metadata": {
        "id": "oCqff5F-VUPZ"
      },
      "outputs": [],
      "source": [
        "import numpy as np\n",
        "import matplotlib.pyplot as plt\n",
        "import keras\n",
        "from keras.datasets import mnist\n",
        "import keras\n",
        "import keras.utils\n",
        "from keras import utils as np_utils"
      ]
    },
    {
      "cell_type": "code",
      "execution_count": null,
      "metadata": {
        "id": "ev3W7BcW4Ou4"
      },
      "outputs": [],
      "source": [
        "# mnist.load_data?"
      ]
    },
    {
      "cell_type": "code",
      "execution_count": null,
      "metadata": {
        "id": "SF-Cnf_RVQY6"
      },
      "outputs": [],
      "source": [
        "#Data is loaded as Matrix to Display the images we use imshow function\n",
        "(X_train, y_train), (X_test, y_test)=mnist.load_data()\n",
        "#ٍSee how Data imgs look like(We'll comment it in the future)\n",
        "def plot_images(index):\n",
        "  plt.imshow(X_train[index],cmap='binary')\n",
        "  plt.axis('off')\n",
        "  plt.show()\n",
        "for i in range(10):\n",
        "  plot_images(i)"
      ]
    },
    {
      "cell_type": "markdown",
      "metadata": {
        "id": "gdYWArFIs98R"
      },
      "source": [
        "## **Phase 2: Apply HOG features to the images**"
      ]
    },
    {
      "cell_type": "code",
      "execution_count": 8,
      "metadata": {
        "id": "579MAfzWVddd",
        "colab": {
          "base_uri": "https://localhost:8080/",
          "height": 314
        },
        "outputId": "eaf010b3-2386-472c-a55e-9c15311d5404"
      },
      "outputs": [
        {
          "output_type": "execute_result",
          "data": {
            "text/plain": [
              "<matplotlib.image.AxesImage at 0x7f450d8c56d0>"
            ]
          },
          "metadata": {},
          "execution_count": 8
        },
        {
          "output_type": "display_data",
          "data": {
            "image/png": "[encoded data removed]",
            "text/plain": [
              "<Figure size 432x288 with 1 Axes>"
            ]
          },
          "metadata": {
            "needs_background": "light"
          }
        }
      ],
      "source": [
        "# Histogram of Oriented Gradients (HOG)\n",
        "#steps: In HOG we have 2 important Value Gradients and Orientation \n",
        "#1- preprocess\n",
        "#2-Calculate Gradients (x,y)[to find the small change in x and y axis]\n",
        "  #we'll get 2 matrices one for x and the other for y Changes\n",
        "#3-Calculate the Magnitude and Orientation for each pixle using gradients from previous step \n",
        "# (Total Gradient Magnitude =  √[(Gx)2+(Gy)2]),Orientation (tan(Φ) = Gy / Gx)\n",
        "#4-Calculate Histogram of Gradients in 8×8 cells (9×1)[In this step we try to creat histogram using Gradients & oriantations]\n",
        "  #If we divide the image into 8×8 cells and generate the histograms, we will get a 9 x 1 matrix for each cell\n",
        "#5-Normalize gradients in 16×16 cell (36×1):We do thhis step to reduce lightinig that might be exsist in parts of any pic\n",
        "  #we'll bw given vector then we calc its length and Normalize it by dividing by its length we'll get vector of size 36×1.\n",
        "from skimage.io import imread, imshow\n",
        "from skimage.transform import resize\n",
        "from skimage.feature import hog\n",
        "from skimage import exposure\n",
        "import matplotlib.pyplot as plt\n",
        "%matplotlib inline\n",
        "resized_img = resize(X_train[0], (128,64))\n",
        "imshow(X_train[10])"
      ]
    },
    {
      "cell_type": "code",
      "execution_count": null,
      "metadata": {
        "id": "KHRLjVsBsYoT"
      },
      "outputs": [],
      "source": [
        "# imshow(imgg)\n",
        "for i in range(10):\n",
        "    resized_img = resize(X_train[i], (128,64))\n",
        "    fd, hog_image = hog(resized_img, orientations=9, pixels_per_cell=(8, 8), cells_per_block=(2, 2), visualize=True)\n",
        "    fig, (ax1, ax2) = plt.subplots(1, 2, figsize=(16, 8), sharex=True, sharey=True)\n",
        "    ax1.imshow(resized_img, cmap=plt.cm.gray) \n",
        "    hog_image_rescaled = exposure.rescale_intensity(hog_image, in_range=(0, 10)) \n",
        "    imgg=ax2.imshow(hog_image_rescaled, cmap=plt.cm.gray)\n",
        "    resized_img=hog_image_rescaled\n",
        "  "
      ]
    },
    {
      "cell_type": "code",
      "source": [
        "hog_image_rescaled.shape\n"
      ],
      "metadata": {
        "colab": {
          "base_uri": "https://localhost:8080/"
        },
        "id": "L1IZco_S9QRy",
        "outputId": "cc5803d2-d2b9-453d-8379-be239c1fe323"
      },
      "execution_count": 13,
      "outputs": [
        {
          "output_type": "execute_result",
          "data": {
            "text/plain": [
              "(128, 64)"
            ]
          },
          "metadata": {},
          "execution_count": 13
        }
      ]
    },
    {
      "cell_type": "code",
      "source": [
        "type(fig)"
      ],
      "metadata": {
        "colab": {
          "base_uri": "https://localhost:8080/"
        },
        "id": "V6dj73zYT7dL",
        "outputId": "548fac9f-ba32-47c4-aeb2-92107e2920d9"
      },
      "execution_count": 11,
      "outputs": [
        {
          "output_type": "execute_result",
          "data": {
            "text/plain": [
              "matplotlib.figure.Figure"
            ]
          },
          "metadata": {},
          "execution_count": 11
        }
      ]
    },
    {
      "cell_type": "code",
      "execution_count": null,
      "metadata": {
        "id": "mggkKg3GCbEg"
      },
      "outputs": [],
      "source": [
        "#Resources\n",
        "# https://machinelearningmastery.com/how-to-develop-a-convolutional-neural-network-from-scratch-for-mnist-handwritten-digit-classification/\n",
        "# https://scikit-image.org/docs/dev/api/skimage.feature.html#skimage.feature.hog\n",
        "# https://h1ros.github.io/posts/loading-scikit-learns-mnist-dataset/\n",
        "\n",
        "# https://www.analyticsvidhya.com/blog/2019/09/feature-engineering-images-introduction-hog-feature-descriptor/"
      ]
    },
    {
      "cell_type": "code",
      "execution_count": null,
      "metadata": {
        "id": "4jx4wvbn33fc"
      },
      "outputs": [],
      "source": [
        "# import tensorflow as tf\n",
        "# from keras import utils as np_utils \n",
        "#PreProcess\n",
        "\n",
        "#Reshape the Input to be 3D\n",
        "# X_train = X_train.reshape((X_train.shape[0], 28, 28, 1))\n",
        "# X_test = X_test.reshape((X_test.shape[0], 28, 28, 1))\n",
        "# #convert to vector\n",
        "# y_train =  tf.keras.utils.to_categorical(y_train)\n",
        "# y_test = tf.keras.utils.to_categorical(y_test)\n"
      ]
    }
  ],
  "metadata": {
    "accelerator": "GPU",
    "colab": {
      "collapsed_sections": [],
      "name": "Mnist.ipynb",
      "provenance": [],
      "authorship_tag": "ABX9TyNyH6JKLM8HpOutdoJgm5VJ",
      "include_colab_link": true
    },
    "kernelspec": {
      "display_name": "Python 3",
      "name": "python3"
    },
    "language_info": {
      "name": "python"
    }
  },
  "nbformat": 4,
  "nbformat_minor": 0
}