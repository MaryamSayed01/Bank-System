{
  "cells": [
    {
      "cell_type": "markdown",
      "metadata": {
        "id": "view-in-github",
        "colab_type": "text"
      },
      "source": [
        "<a href=\"https://colab.research.google.com/github/MaryamSayed01/Bank-System/blob/main/Mnist.ipynb\" target=\"_parent\"><img src=\"https://colab.research.google.com/assets/colab-badge.svg\" alt=\"Open In Colab\"/></a>"
      ]
    },
    {
      "cell_type": "markdown",
      "metadata": {
        "id": "Xd0RBqmyxZTK"
      },
      "source": [
        "## **Phase 1:Load MNIST dataset**\n"
      ]
    },
    {
      "cell_type": "code",
      "execution_count": 1,
      "metadata": {
        "id": "oCqff5F-VUPZ"
      },
      "outputs": [],
      "source": [
        "import numpy as np\n",
        "import matplotlib.pyplot as plt\n",
        "import keras\n",
        "from keras.datasets import mnist\n",
        "import keras\n",
        "import keras.utils\n",
        "from keras import utils as np_utils"
      ]
    },
    {
      "cell_type": "code",
      "execution_count": 2,
      "metadata": {
        "id": "ev3W7BcW4Ou4"
      },
      "outputs": [],
      "source": [
        "mnist.load_data?"
      ]
    },
    {
      "cell_type": "code",
      "execution_count": 3,
      "metadata": {
        "colab": {
          "base_uri": "https://localhost:8080/",
          "height": 1000
        },
        "id": "SF-Cnf_RVQY6",
        "outputId": "92496935-7c7b-4cc6-cc8e-924e0e7fc14d"
      },
      "outputs": [
        {
          "output_type": "stream",
          "name": "stdout",
          "text": [
            "Downloading data from https://storage.googleapis.com/tensorflow/tf-keras-datasets/mnist.npz\n",
            "11493376/11490434 [==============================] - 0s 0us/step\n",
            "11501568/11490434 [==============================] - 0s 0us/step\n"
          ]
        },
        {
          "output_type": "display_data",
          "data": {
            "image/png": "[encoded data removed]",
            "text/plain": [
              "<Figure size 432x288 with 1 Axes>"
            ]
          },
          "metadata": {
            "needs_background": "light"
          }
        },
        {
          "output_type": "display_data",
          "data": {
            "image/png": "[encoded data removed]",
            "text/plain": [
              "<Figure size 432x288 with 1 Axes>"
            ]
          },
          "metadata": {
            "needs_background": "light"
          }
        },
        {
          "output_type": "display_data",
          "data": {
            "image/png": "[encoded data removed]",
            "text/plain": [
              "<Figure size 432x288 with 1 Axes>"
            ]
          },
          "metadata": {
            "needs_background": "light"
          }
        },
        {
          "output_type": "display_data",
          "data": {
            "image/png": "[encoded data removed]",
            "text/plain": [
              "<Figure size 432x288 with 1 Axes>"
            ]
          },
          "metadata": {
            "needs_background": "light"
          }
        },
        {
          "output_type": "display_data",
          "data": {
            "image/png": "[encoded data removed]",
            "text/plain": [
              "<Figure size 432x288 with 1 Axes>"
            ]
          },
          "metadata": {
            "needs_background": "light"
          }
        },
        {
          "output_type": "display_data",
          "data": {
            "image/png": "[encoded data removed]",
            "text/plain": [
              "<Figure size 432x288 with 1 Axes>"
            ]
          },
          "metadata": {
            "needs_background": "light"
          }
        },
        {
          "output_type": "display_data",
          "data": {
            "image/png": "[encoded data removed]",
            "text/plain": [
              "<Figure size 432x288 with 1 Axes>"
            ]
          },
          "metadata": {
            "needs_background": "light"
          }
        },
        {
          "output_type": "display_data",
          "data": {
            "image/png": "[encoded data removed]",
            "text/plain": [
              "<Figure size 432x288 with 1 Axes>"
            ]
          },
          "metadata": {
            "needs_background": "light"
          }
        },
        {
          "output_type": "display_data",
          "data": {
            "image/png": "[encoded data removed]",
            "text/plain": [
              "<Figure size 432x288 with 1 Axes>"
            ]
          },
          "metadata": {
            "needs_background": "light"
          }
        },
        {
          "output_type": "display_data",
          "data": {
            "image/png": "[encoded data removed]",
            "text/plain": [
              "<Figure size 432x288 with 1 Axes>"
            ]
          },
          "metadata": {
            "needs_background": "light"
          }
        }
      ],
      "source": [
        "#Data is loaded as Matrix to Display the images we use imshow function\n",
        "(X_train, y_train), (X_test, y_test)=mnist.load_data()\n",
        "#ٍSee how Data imgs look like(We'll comment it in the future)\n",
        "def plot_images(index):\n",
        "  plt.imshow(X_train[index],cmap='binary')\n",
        "  plt.axis('off')\n",
        "  plt.show()\n",
        "for i in range(10):\n",
        "  plot_images(i)"
      ]
    },
    {
      "cell_type": "markdown",
      "metadata": {
        "id": "gdYWArFIs98R"
      },
      "source": [
        "## **Phase 2: Apply HOG features to the images**"
      ]
    },
    {
      "cell_type": "markdown",
      "metadata": {
        "id": "Jfo1cCCwWdIN"
      },
      "source": [
        "# <center> Histogram of Oriented Gradients (HOG)\n",
        "## Steps: \n",
        "### In HOG we have 2 important Value Gradients and Orientation \n",
        "### 1- Preprocess\n",
        "### 2- Calculate Gradients (x,y)\n",
        "    [to find the small change in x and y axis]\n",
        "    we'll get 2 matrices one for x and the other for y Changes\n",
        "### 3- Calculate the Magnitude and Orientation \n",
        "    for each pixle using gradients from previous step \n",
        "    (Total Gradient Magnitude =  √[(Gx)2+(Gy)2]),Orientation (tan(Φ) = Gy / Gx)\n",
        "#### 4-Calculate Histogram of Gradients \n",
        "    In this step we try to creat histogram using Gradients  oriantations\n",
        "    If we divide the image into 8×8 cells and generate the histograms, we will get a 9 x 1 matrix for each cell\n",
        "### 5-Normalize gradients\n",
        "    We do this step to reduce lightinig that might be exsist in parts of any pic\n",
        "\n"
      ]
    },
    {
      "cell_type": "code",
      "execution_count": 4,
      "metadata": {
        "id": "579MAfzWVddd"
      },
      "outputs": [],
      "source": [
        "from skimage.io import imread, imshow\n",
        "from skimage.transform import resize\n",
        "from skimage.feature import hog\n",
        "from skimage import exposure\n",
        "import matplotlib.pyplot as plt"
      ]
    },
    {
      "cell_type": "code",
      "execution_count": 5,
      "metadata": {
        "id": "Ll7lvGphdlTl"
      },
      "outputs": [],
      "source": [
        "import tensorflow as tf\n",
        "from keras import utils as np_utils \n",
        "#PreProcess\n",
        "X_train = X_train.astype('float32')\n",
        "X_test = X_test.astype('float32')\n",
        "X_train/=255\n",
        "X_test/=255\n",
        "#convert to vector\n",
        "y_train =  tf.keras.utils.to_categorical(y_train)\n",
        "y_test = tf.keras.utils.to_categorical(y_test)"
      ]
    },
    {
      "cell_type": "code",
      "execution_count": 6,
      "metadata": {
        "id": "KHRLjVsBsYoT"
      },
      "outputs": [],
      "source": [
        "for i in range(60000):\n",
        "    resized_img = resize(X_train[i], (28,28))\n",
        "    fd, hog_image = hog(resized_img, orientations=9, pixels_per_cell=(4, 4), cells_per_block=(2, 2), visualize=True)\n",
        "    hog_image_rescaled = exposure.rescale_intensity(hog_image, in_range=(0, 1)) \n",
        "    X_train[i]=hog_image_rescaled"
      ]
    },
    {
      "cell_type": "code",
      "execution_count": 7,
      "metadata": {
        "id": "Ck2lINA13qoH"
      },
      "outputs": [],
      "source": [
        "for i in range(10000):\n",
        "    resized_img = resize(X_test[i], (28,28))\n",
        "    fd, hog_image = hog(resized_img, orientations=9, pixels_per_cell=(4, 4), cells_per_block=(2, 2), visualize=True)\n",
        "    hog_image_rescaled = exposure.rescale_intensity(hog_image, in_range=(0, 1)) \n",
        "    X_test[i]=hog_image_rescaled"
      ]
    },
    {
      "cell_type": "code",
      "execution_count": 8,
      "metadata": {
        "id": "V6dj73zYT7dL"
      },
      "outputs": [],
      "source": [
        "#Reshape The Data as one of the models we'll apply should get 4d array \n",
        "X_train = X_train.reshape(X_train.shape[0], 28, 28, 1)\n",
        "X_test = X_test.reshape(X_test.shape[0], 28, 28, 1)"
      ]
    },
    {
      "cell_type": "markdown",
      "source": [
        "#Resources\n",
        "https://machinelearningmastery.com/how-to-develop-a-convolutional-neural-network-from-scratch-for-mnist-handwritten-digit-classification/\n",
        "https://scikit-image.org/docs/dev/api/skimage.feature.html#skimage.feature.hog\n",
        "https://h1ros.github.io/posts/loading-scikit-learns-mnist-dataset/\n",
        "https://towardsdatascience.com/image-classification-in-10-minutes-with-mnist-dataset-54c35b77a38d\n",
        "https://www.analyticsvidhya.com/blog/2019/09/feature-engineering-images-introduction-hog-feature-descriptor/\n",
        "https://www.programcreek.com/python/example/93846/skimage.exposure.rescale_intensity"
      ],
      "metadata": {
        "id": "VhOdd_kZOiPi"
      }
    },
    {
      "cell_type": "markdown",
      "source": [
        "# Applying CNN (Convolution Neural Network) Model"
      ],
      "metadata": {
        "id": "QY96T4R9RtEY"
      }
    },
    {
      "cell_type": "markdown",
      "source": [
        "In the previos step we reached after applying the HOG we reshaped our data, Why?\n",
        "As this Model only can be applied on 4D array"
      ],
      "metadata": {
        "id": "UlnPLfX2R_8g"
      }
    },
    {
      "cell_type": "code",
      "source": [
        "from tensorflow.keras.models import Sequential\n",
        "from tensorflow.keras.layers import Dense, Conv2D, Dropout, Flatten, MaxPooling2D"
      ],
      "metadata": {
        "id": "eYW33FdKR-hX"
      },
      "execution_count": 9,
      "outputs": []
    },
    {
      "cell_type": "code",
      "source": [
        ""
      ],
      "metadata": {
        "id": "zQQVLQ5qSi1Q"
      },
      "execution_count": 9,
      "outputs": []
    }
  ],
  "metadata": {
    "accelerator": "GPU",
    "colab": {
      "collapsed_sections": [],
      "name": "Mnist.ipynb",
      "provenance": [],
      "authorship_tag": "ABX9TyOH9A80i8gZIjjFHOhvvf/v",
      "include_colab_link": true
    },
    "kernelspec": {
      "display_name": "Python 3",
      "name": "python3"
    },
    "language_info": {
      "name": "python"
    }
  },
  "nbformat": 4,
  "nbformat_minor": 0
}